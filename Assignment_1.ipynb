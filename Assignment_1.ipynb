{
  "nbformat": 4,
  "nbformat_minor": 0,
  "metadata": {
    "colab": {
      "provenance": [],
      "authorship_tag": "ABX9TyM3KhkeJU8OfkMMk730sBKG",
      "include_colab_link": true
    },
    "kernelspec": {
      "name": "python3",
      "display_name": "Python 3"
    },
    "language_info": {
      "name": "python"
    }
  },
  "cells": [
    {
      "cell_type": "markdown",
      "metadata": {
        "id": "view-in-github",
        "colab_type": "text"
      },
      "source": [
        "<a href=\"https://colab.research.google.com/github/JaspreetSingh33/Machine-Learning/blob/main/Assignment_1.ipynb\" target=\"_parent\"><img src=\"https://colab.research.google.com/assets/colab-badge.svg\" alt=\"Open In Colab\"/></a>"
      ]
    },
    {
      "cell_type": "code",
      "source": [
        "import numpy as np"
      ],
      "metadata": {
        "id": "xmR8tu_GVinA"
      },
      "execution_count": 2,
      "outputs": []
    },
    {
      "cell_type": "code",
      "execution_count": null,
      "metadata": {
        "colab": {
          "base_uri": "https://localhost:8080/"
        },
        "id": "r3gvAA9zU6O5",
        "outputId": "780487ce-e0b0-4cb8-9eb7-7e696c06a543"
      },
      "outputs": [
        {
          "output_type": "execute_result",
          "data": {
            "text/plain": [
              "array([5, 4, 6, 3, 2, 1])"
            ]
          },
          "metadata": {},
          "execution_count": 2
        }
      ],
      "source": [
        "# Reverse the NumPy array: arr = np.array([1, 2, 3, 6, 4, 5])\n",
        "arr=np.array([1,2,3,6,4,5])\n",
        "np.flip(arr)\n"
      ]
    },
    {
      "cell_type": "code",
      "source": [
        "#Flatten the NumPy arr: array1 = np.array([[1, 2, 3], [2, 4, 5], [1, 2, 3]]) using any two NumPy in-built methods\n",
        "\n",
        "array1=np.array([[1,2,3],[2,4,5],[1,2,3]])\n",
        "array1.flatten()"
      ],
      "metadata": {
        "colab": {
          "base_uri": "https://localhost:8080/"
        },
        "id": "IbPcds1MVhqa",
        "outputId": "8e6f6a73-1f26-40e3-e0cd-cd6ba25a1c1f"
      },
      "execution_count": null,
      "outputs": [
        {
          "output_type": "execute_result",
          "data": {
            "text/plain": [
              "array([1, 2, 3, 2, 4, 5, 1, 2, 3])"
            ]
          },
          "metadata": {},
          "execution_count": 7
        }
      ]
    },
    {
      "cell_type": "code",
      "source": [
        "array1.ravel()"
      ],
      "metadata": {
        "colab": {
          "base_uri": "https://localhost:8080/"
        },
        "id": "hkN9xNNIe7rH",
        "outputId": "aaaf0bb9-3b90-4e85-d08f-e995d51c2be0"
      },
      "execution_count": null,
      "outputs": [
        {
          "output_type": "execute_result",
          "data": {
            "text/plain": [
              "array([1, 2, 3, 2, 4, 5, 1, 2, 3])"
            ]
          },
          "metadata": {},
          "execution_count": 8
        }
      ]
    },
    {
      "cell_type": "code",
      "source": [
        "#  Compare the following numpy arrays:\n",
        "# arr1 = np.array([[1, 2], [3, 4]])\n",
        "# arr2 = np.array([[1, 2], [3, 4]])\n",
        "arr1=np.array([[1,2],[3,4]])\n",
        "arr2=np.array([[1,2],[3,4]])\n",
        "np.array_equal(arr1,arr2)\n",
        "# compare=arr1==arr2\n",
        "# compare.all()"
      ],
      "metadata": {
        "colab": {
          "base_uri": "https://localhost:8080/"
        },
        "id": "YEx5NfHofBhR",
        "outputId": "20953406-0d80-41e7-815b-f9d31dbc8136"
      },
      "execution_count": null,
      "outputs": [
        {
          "output_type": "execute_result",
          "data": {
            "text/plain": [
              "True"
            ]
          },
          "metadata": {},
          "execution_count": 13
        }
      ]
    },
    {
      "cell_type": "code",
      "source": [
        "#  Find the most frequent value and their indice(s) in the following arrays:\n",
        "# i.x = np.array([1,2,3,4,5,1,2,1,1,1])\n",
        "# ii. y = np.array([1, 1, 1, 2, 3, 4, 2, 4, 3, 3, ])\n",
        "\n",
        "x=np.array([1,2,3,4,5,1,2,1,1,1])\n",
        "np.unique(x,return_counts=True)\n",
        "\n"
      ],
      "metadata": {
        "colab": {
          "base_uri": "https://localhost:8080/"
        },
        "id": "irfxXBaOfDUD",
        "outputId": "72986a34-aaed-4848-dda9-2e7bba5f9c8c"
      },
      "execution_count": null,
      "outputs": [
        {
          "output_type": "execute_result",
          "data": {
            "text/plain": [
              "(array([1, 2, 3, 4, 5]), array([5, 2, 1, 1, 1]))"
            ]
          },
          "metadata": {},
          "execution_count": 20
        }
      ]
    },
    {
      "cell_type": "code",
      "source": [
        "y=np.array([1,1,1,2,3,4,2,4,3,3])\n",
        "print(np.bincount(y))\n",
        "\n"
      ],
      "metadata": {
        "colab": {
          "base_uri": "https://localhost:8080/"
        },
        "id": "UpOdZkKdfDdY",
        "outputId": "94aff3d4-3df5-4500-8a26-e2cb09113e4c"
      },
      "execution_count": null,
      "outputs": [
        {
          "output_type": "stream",
          "name": "stdout",
          "text": [
            "[0 3 2 3 2]\n"
          ]
        }
      ]
    },
    {
      "cell_type": "code",
      "source": [
        "# For the array gfg = np.matrix('[4, 1, 9; 12, 3, 1; 4, 5, 6]'), find\n",
        "# i.\n",
        "# Sum of all elements\n",
        "# ii.\n",
        "# iii.\n",
        "# Sum of all elements row-wise\n",
        "# Sum of all elements column-wise\n",
        "gfg=np.matrix('[4,1,9;12,3,1;4,5,6]')\n",
        "gfg\n",
        "\n"
      ],
      "metadata": {
        "colab": {
          "base_uri": "https://localhost:8080/"
        },
        "id": "cL8nOgi0mly9",
        "outputId": "a5a6be54-fc76-4fa1-dde1-24192905279f"
      },
      "execution_count": null,
      "outputs": [
        {
          "output_type": "execute_result",
          "data": {
            "text/plain": [
              "matrix([[ 4,  1,  9],\n",
              "        [12,  3,  1],\n",
              "        [ 4,  5,  6]])"
            ]
          },
          "metadata": {},
          "execution_count": 21
        }
      ]
    },
    {
      "cell_type": "code",
      "source": [
        "gfg.sum()"
      ],
      "metadata": {
        "colab": {
          "base_uri": "https://localhost:8080/"
        },
        "id": "i-s1M56cn2f7",
        "outputId": "3346b449-ae90-461a-9266-a5df2d956f8f"
      },
      "execution_count": null,
      "outputs": [
        {
          "output_type": "execute_result",
          "data": {
            "text/plain": [
              "np.int64(45)"
            ]
          },
          "metadata": {},
          "execution_count": 22
        }
      ]
    },
    {
      "cell_type": "code",
      "source": [
        "gfg.sum(axis=0)"
      ],
      "metadata": {
        "colab": {
          "base_uri": "https://localhost:8080/"
        },
        "id": "r3KktnBtn2rz",
        "outputId": "b15cb706-1566-4a0c-b0de-b530758f3c96"
      },
      "execution_count": null,
      "outputs": [
        {
          "output_type": "execute_result",
          "data": {
            "text/plain": [
              "matrix([[20,  9, 16]])"
            ]
          },
          "metadata": {},
          "execution_count": 23
        }
      ]
    },
    {
      "cell_type": "code",
      "source": [
        "gfg.sum(axis=1)"
      ],
      "metadata": {
        "colab": {
          "base_uri": "https://localhost:8080/"
        },
        "id": "bk5Kect1rAYd",
        "outputId": "aaa3dba9-396c-442d-ac27-1e99ce3fbc1b"
      },
      "execution_count": null,
      "outputs": [
        {
          "output_type": "execute_result",
          "data": {
            "text/plain": [
              "matrix([[14],\n",
              "        [16],\n",
              "        [15]])"
            ]
          },
          "metadata": {},
          "execution_count": 24
        }
      ]
    },
    {
      "cell_type": "code",
      "source": [
        "#  For the matrix: n_array = np.array([[55, 25, 15],[30, 44, 2],[11, 45, 77]]), find\n",
        "# i.  Sum of diagonal elements\n",
        "# ii. Eigen values of matrix\n",
        "# iii. Eigen vectors of matrix\n",
        "# iv. Inverse of matrix\n",
        "# v. Determinant of matrix\n"
      ],
      "metadata": {
        "id": "baQiaQikrAh6"
      },
      "execution_count": null,
      "outputs": []
    },
    {
      "cell_type": "code",
      "source": [
        "n_array=np.array([[55,25,15],[30,44,2],[11,45,77]])\n",
        "n_array"
      ],
      "metadata": {
        "colab": {
          "base_uri": "https://localhost:8080/"
        },
        "id": "8c2LlKbgrAlZ",
        "outputId": "5fe9ece5-1fe8-4587-debc-fd61b6434af5"
      },
      "execution_count": null,
      "outputs": [
        {
          "output_type": "execute_result",
          "data": {
            "text/plain": [
              "array([[55, 25, 15],\n",
              "       [30, 44,  2],\n",
              "       [11, 45, 77]])"
            ]
          },
          "metadata": {},
          "execution_count": 4
        }
      ]
    },
    {
      "cell_type": "code",
      "source": [
        "n_array.diagonal().sum()"
      ],
      "metadata": {
        "colab": {
          "base_uri": "https://localhost:8080/"
        },
        "id": "sRIfDwjFr14-",
        "outputId": "3df5a596-5f9c-42cf-cd34-d4d6d7e89a99"
      },
      "execution_count": null,
      "outputs": [
        {
          "output_type": "execute_result",
          "data": {
            "text/plain": [
              "np.int64(176)"
            ]
          },
          "metadata": {},
          "execution_count": 32
        }
      ]
    },
    {
      "cell_type": "code",
      "source": [
        "np.trace(n_array)"
      ],
      "metadata": {
        "colab": {
          "base_uri": "https://localhost:8080/"
        },
        "id": "hZsqkbqBr2CY",
        "outputId": "86d367df-66b4-4d49-8564-79730235c3a0"
      },
      "execution_count": null,
      "outputs": [
        {
          "output_type": "execute_result",
          "data": {
            "text/plain": [
              "np.int64(176)"
            ]
          },
          "metadata": {},
          "execution_count": 33
        }
      ]
    },
    {
      "cell_type": "code",
      "source": [
        "np.fliplr(n_array).diagonal().sum() #antidiagonal sum"
      ],
      "metadata": {
        "colab": {
          "base_uri": "https://localhost:8080/"
        },
        "id": "evY7uHJkr2M0",
        "outputId": "b649bd58-7e94-4381-8812-d2822f6a252b"
      },
      "execution_count": null,
      "outputs": [
        {
          "output_type": "execute_result",
          "data": {
            "text/plain": [
              "np.int64(70)"
            ]
          },
          "metadata": {},
          "execution_count": 34
        }
      ]
    },
    {
      "cell_type": "code",
      "source": [
        "eva,eve=np.linalg.eig(n_array)\n",
        "eva,eve"
      ],
      "metadata": {
        "colab": {
          "base_uri": "https://localhost:8080/"
        },
        "id": "YTQWRzdhsUEs",
        "outputId": "3d1d4fff-d142-42c0-bc8d-5e575dd28612"
      },
      "execution_count": null,
      "outputs": [
        {
          "output_type": "execute_result",
          "data": {
            "text/plain": [
              "(array([98.16835147, 28.097044  , 49.73460452]),\n",
              " array([[ 0.4574917 ,  0.34637121, -0.15017693],\n",
              "        [ 0.28447814, -0.72784061, -0.4852124 ],\n",
              "        [ 0.84248058,  0.59184038,  0.8614034 ]]))"
            ]
          },
          "metadata": {},
          "execution_count": 9
        }
      ]
    },
    {
      "cell_type": "code",
      "source": [
        "inv=np.linalg.inv(n_array)\n",
        "inv"
      ],
      "metadata": {
        "colab": {
          "base_uri": "https://localhost:8080/"
        },
        "id": "AKFm52gPsUHU",
        "outputId": "f00fbaf4-5425-4a54-bd25-4c1c3dbe813a"
      },
      "execution_count": null,
      "outputs": [
        {
          "output_type": "execute_result",
          "data": {
            "text/plain": [
              "array([[ 0.02404141, -0.00911212, -0.00444671],\n",
              "       [-0.01667882,  0.02966905,  0.0024785 ],\n",
              "       [ 0.00631287, -0.01603732,  0.01217379]])"
            ]
          },
          "metadata": {},
          "execution_count": 10
        }
      ]
    },
    {
      "cell_type": "code",
      "source": [
        "det=np.linalg.det(n_array)\n",
        "det"
      ],
      "metadata": {
        "colab": {
          "base_uri": "https://localhost:8080/"
        },
        "id": "T2r7pS0OsUJy",
        "outputId": "7fefecc1-a14a-4d30-bcf7-57cfa294c3b1"
      },
      "execution_count": null,
      "outputs": [
        {
          "output_type": "execute_result",
          "data": {
            "text/plain": [
              "np.float64(137180.0000000001)"
            ]
          },
          "metadata": {},
          "execution_count": 11
        }
      ]
    },
    {
      "cell_type": "code",
      "source": [
        "np.linalg.matrix_"
      ],
      "metadata": {
        "id": "JQXvYYLQsUM6"
      },
      "execution_count": null,
      "outputs": []
    },
    {
      "cell_type": "code",
      "source": [
        "# Multiply the following matrices and also find covariance between matrices using NumPy:\n",
        "# i.p = [[1, 2], [2, 3]]\n",
        "# q = [[4, 5], [6, 7]]\n",
        "# ii. p = [[1, 2], [2, 3], [4, 5]]\n",
        "# q = [[4, 5, 1], [6, 7, 2]]"
      ],
      "metadata": {
        "id": "mQNMRWumEFYN"
      },
      "execution_count": null,
      "outputs": []
    },
    {
      "cell_type": "code",
      "source": [
        "p1=np.array([[1,2],[2,3]])\n",
        "q1=np.array([[4,5],[6,7]])\n",
        "np.dot(p1,q1)"
      ],
      "metadata": {
        "colab": {
          "base_uri": "https://localhost:8080/"
        },
        "id": "hSEqJYJcEFjj",
        "outputId": "8d913443-7a2c-4416-d65c-16a5d74e1d39"
      },
      "execution_count": 4,
      "outputs": [
        {
          "output_type": "execute_result",
          "data": {
            "text/plain": [
              "array([[16, 19],\n",
              "       [26, 31]])"
            ]
          },
          "metadata": {},
          "execution_count": 4
        }
      ]
    },
    {
      "cell_type": "code",
      "source": [
        "cov1 = np.cov(p1.flatten(), q1.flatten())\n",
        "cov1"
      ],
      "metadata": {
        "colab": {
          "base_uri": "https://localhost:8080/"
        },
        "id": "gO7yv2DrFS1f",
        "outputId": "04535983-e94f-4752-cf2d-4087ccc45502"
      },
      "execution_count": 8,
      "outputs": [
        {
          "output_type": "execute_result",
          "data": {
            "text/plain": [
              "array([[0.66666667, 1.        ],\n",
              "       [1.        , 1.66666667]])"
            ]
          },
          "metadata": {},
          "execution_count": 8
        }
      ]
    },
    {
      "cell_type": "code",
      "source": [
        "p2=np.array([[1,2],[2,3],[4,5]])\n",
        "q2=np.array([[4,5,1],[6,7,2]])\n",
        "np.dot(p2,q2)"
      ],
      "metadata": {
        "id": "t8Ir1wSpFSoP",
        "colab": {
          "base_uri": "https://localhost:8080/"
        },
        "outputId": "88d68829-2e87-4e66-ba0d-55e469759c19"
      },
      "execution_count": 7,
      "outputs": [
        {
          "output_type": "execute_result",
          "data": {
            "text/plain": [
              "array([[16, 19,  5],\n",
              "       [26, 31,  8],\n",
              "       [46, 55, 14]])"
            ]
          },
          "metadata": {},
          "execution_count": 7
        }
      ]
    },
    {
      "cell_type": "code",
      "source": [
        "cov2=np.cov(p2.flatten(),q2.flatten())\n",
        "cov2"
      ],
      "metadata": {
        "colab": {
          "base_uri": "https://localhost:8080/"
        },
        "id": "1kWAXB5jbY6b",
        "outputId": "abea0d60-97a7-4041-c03d-759cd3759095"
      },
      "execution_count": 9,
      "outputs": [
        {
          "output_type": "execute_result",
          "data": {
            "text/plain": [
              "array([[2.16666667, 0.23333333],\n",
              "       [0.23333333, 5.36666667]])"
            ]
          },
          "metadata": {},
          "execution_count": 9
        }
      ]
    },
    {
      "cell_type": "code",
      "source": [
        "# For the matrices: x = np.array([[2, 3, 4], [3, 2, 9]]); y = np.array([[1, 5, 0], [5, 10, 3]]),find inner, outer and cartesian product?\n",
        "\n",
        " #The inner product (generalization of the dot product) is the sum of element-wise products of two vectors.\n",
        " #The outer product multiplies every element of one vector by every element of another vector — no summation.\n",
        " #The Cartesian product is all possible ordered pairs between elements of two sets (or arrays). No multiplication is done — we just form pairs.\n"
      ],
      "metadata": {
        "id": "2HzHUvSlbZNK"
      },
      "execution_count": 17,
      "outputs": []
    },
    {
      "cell_type": "code",
      "source": [
        "x1=np.array([[2,3,4],[3,2,9]])\n",
        "y1=np.array([[1,5,0],[5,10,3]])\n",
        "x1,y1"
      ],
      "metadata": {
        "colab": {
          "base_uri": "https://localhost:8080/"
        },
        "id": "6ALN1bQGdQtu",
        "outputId": "e4034aad-6e32-4bc4-cda8-3fd48e5fd459"
      },
      "execution_count": 19,
      "outputs": [
        {
          "output_type": "execute_result",
          "data": {
            "text/plain": [
              "(array([[2, 3, 4],\n",
              "        [3, 2, 9]]),\n",
              " array([[ 1,  5,  0],\n",
              "        [ 5, 10,  3]]))"
            ]
          },
          "metadata": {},
          "execution_count": 19
        }
      ]
    },
    {
      "cell_type": "code",
      "source": [
        "iner=np.inner(x1,y1)\n",
        "iner"
      ],
      "metadata": {
        "colab": {
          "base_uri": "https://localhost:8080/"
        },
        "id": "n8a7JiL2dag5",
        "outputId": "e6c15890-638a-4130-aa9a-d68218513f29"
      },
      "execution_count": 20,
      "outputs": [
        {
          "output_type": "execute_result",
          "data": {
            "text/plain": [
              "array([[17, 52],\n",
              "       [13, 62]])"
            ]
          },
          "metadata": {},
          "execution_count": 20
        }
      ]
    },
    {
      "cell_type": "code",
      "source": [
        "outer=np.outer(x1,y1)\n",
        "outer"
      ],
      "metadata": {
        "colab": {
          "base_uri": "https://localhost:8080/"
        },
        "id": "qKJwEQNIdan0",
        "outputId": "77c9d6e5-9778-474f-ac5d-da9afb744fad"
      },
      "execution_count": 21,
      "outputs": [
        {
          "output_type": "execute_result",
          "data": {
            "text/plain": [
              "array([[ 2, 10,  0, 10, 20,  6],\n",
              "       [ 3, 15,  0, 15, 30,  9],\n",
              "       [ 4, 20,  0, 20, 40, 12],\n",
              "       [ 3, 15,  0, 15, 30,  9],\n",
              "       [ 2, 10,  0, 10, 20,  6],\n",
              "       [ 9, 45,  0, 45, 90, 27]])"
            ]
          },
          "metadata": {},
          "execution_count": 21
        }
      ]
    },
    {
      "cell_type": "code",
      "source": [
        "x_flat = x1.ravel()\n",
        "y_flat = y1.ravel()\n",
        "\n",
        "X, Y = np.meshgrid(x_flat, y_flat)          # Create coordinate grids\n",
        "cartesian = np.column_stack((X.ravel(), Y.ravel()))\n",
        "\n",
        "cartesian"
      ],
      "metadata": {
        "colab": {
          "base_uri": "https://localhost:8080/"
        },
        "id": "ZIJqtyyZdauf",
        "outputId": "27543dda-47ce-4a32-dee9-71779ac9e1c2"
      },
      "execution_count": 22,
      "outputs": [
        {
          "output_type": "execute_result",
          "data": {
            "text/plain": [
              "array([[ 2,  1],\n",
              "       [ 3,  1],\n",
              "       [ 4,  1],\n",
              "       [ 3,  1],\n",
              "       [ 2,  1],\n",
              "       [ 9,  1],\n",
              "       [ 2,  5],\n",
              "       [ 3,  5],\n",
              "       [ 4,  5],\n",
              "       [ 3,  5],\n",
              "       [ 2,  5],\n",
              "       [ 9,  5],\n",
              "       [ 2,  0],\n",
              "       [ 3,  0],\n",
              "       [ 4,  0],\n",
              "       [ 3,  0],\n",
              "       [ 2,  0],\n",
              "       [ 9,  0],\n",
              "       [ 2,  5],\n",
              "       [ 3,  5],\n",
              "       [ 4,  5],\n",
              "       [ 3,  5],\n",
              "       [ 2,  5],\n",
              "       [ 9,  5],\n",
              "       [ 2, 10],\n",
              "       [ 3, 10],\n",
              "       [ 4, 10],\n",
              "       [ 3, 10],\n",
              "       [ 2, 10],\n",
              "       [ 9, 10],\n",
              "       [ 2,  3],\n",
              "       [ 3,  3],\n",
              "       [ 4,  3],\n",
              "       [ 3,  3],\n",
              "       [ 2,  3],\n",
              "       [ 9,  3]])"
            ]
          },
          "metadata": {},
          "execution_count": 22
        }
      ]
    },
    {
      "cell_type": "code",
      "source": [
        "#  For the array: array = np.array([10, 52, 62, 16, 16, 54, 453]), find\n",
        "# i.\n",
        "# Sorted array\n",
        "# ii.\n",
        "# iii.\n",
        "# iv.\n",
        "# Indices of sorted array\n",
        "# 4 smallest elements\n",
        "# 5 largest elements"
      ],
      "metadata": {
        "id": "AhpCSFx-dayR"
      },
      "execution_count": null,
      "outputs": []
    },
    {
      "cell_type": "code",
      "source": [
        "ary=np.array([10,52,62,16,16,54,453])\n",
        "np.sort(ary)"
      ],
      "metadata": {
        "colab": {
          "base_uri": "https://localhost:8080/"
        },
        "id": "wQPZx-tjda6B",
        "outputId": "6366308e-2838-431f-f98e-4e9089f52a15"
      },
      "execution_count": 23,
      "outputs": [
        {
          "output_type": "execute_result",
          "data": {
            "text/plain": [
              "array([ 10,  16,  16,  52,  54,  62, 453])"
            ]
          },
          "metadata": {},
          "execution_count": 23
        }
      ]
    },
    {
      "cell_type": "code",
      "source": [
        "sorted_indices = np.argsort(ary)\n",
        "sorted_indices"
      ],
      "metadata": {
        "colab": {
          "base_uri": "https://localhost:8080/"
        },
        "id": "TVk2WJgpjw3-",
        "outputId": "a31a561e-19ff-44ce-a62d-775955a2d8bf"
      },
      "execution_count": 24,
      "outputs": [
        {
          "output_type": "execute_result",
          "data": {
            "text/plain": [
              "array([0, 3, 4, 1, 5, 2, 6])"
            ]
          },
          "metadata": {},
          "execution_count": 24
        }
      ]
    },
    {
      "cell_type": "code",
      "source": [
        "smaller_four=np.sort(ary)[0:4]\n",
        "smaller_four"
      ],
      "metadata": {
        "colab": {
          "base_uri": "https://localhost:8080/"
        },
        "id": "hCDhq2UbjxC_",
        "outputId": "17fa2910-374a-469b-876f-f27d5081c18d"
      },
      "execution_count": 26,
      "outputs": [
        {
          "output_type": "execute_result",
          "data": {
            "text/plain": [
              "array([10, 16, 16, 52])"
            ]
          },
          "metadata": {},
          "execution_count": 26
        }
      ]
    },
    {
      "cell_type": "code",
      "source": [
        "larger_five=np.sort(ary)[-5:]\n",
        "larger_five"
      ],
      "metadata": {
        "colab": {
          "base_uri": "https://localhost:8080/"
        },
        "id": "yPHv9y2Vk0ZM",
        "outputId": "934c45e8-9d65-4ca3-cc10-7dd79d897349"
      },
      "execution_count": 30,
      "outputs": [
        {
          "output_type": "execute_result",
          "data": {
            "text/plain": [
              "array([ 16,  52,  54,  62, 453])"
            ]
          },
          "metadata": {},
          "execution_count": 30
        }
      ]
    },
    {
      "cell_type": "code",
      "source": [
        "#  For the array: array = np.array([1.0, 1.2, 2.2, 2.0, 3.0, 2.0]), find\n",
        "# i. Integer elements only\n",
        "# ii. Float elements only"
      ],
      "metadata": {
        "id": "5KnElqwDl-4S"
      },
      "execution_count": null,
      "outputs": []
    },
    {
      "cell_type": "code",
      "source": [
        "ary2=np.array([1.0,1.2,2.2,2.0,3.0,2.0])\n",
        "ary2"
      ],
      "metadata": {
        "colab": {
          "base_uri": "https://localhost:8080/"
        },
        "id": "2ZMe7U2al-_w",
        "outputId": "f5dc1601-9a15-4c9e-ffbc-db09204bb5bc"
      },
      "execution_count": 34,
      "outputs": [
        {
          "output_type": "execute_result",
          "data": {
            "text/plain": [
              "array([1. , 1.2, 2.2, 2. , 3. , 2. ])"
            ]
          },
          "metadata": {},
          "execution_count": 34
        }
      ]
    },
    {
      "cell_type": "code",
      "source": [
        "intg=ary2[ary2==ary2.astype(int)]\n",
        "intg"
      ],
      "metadata": {
        "colab": {
          "base_uri": "https://localhost:8080/"
        },
        "id": "CLlrfKQml_Fd",
        "outputId": "8a83a2b6-18a3-451e-d74c-38aeebd443b2"
      },
      "execution_count": 36,
      "outputs": [
        {
          "output_type": "execute_result",
          "data": {
            "text/plain": [
              "array([1., 2., 3., 2.])"
            ]
          },
          "metadata": {},
          "execution_count": 36
        }
      ]
    },
    {
      "cell_type": "code",
      "source": [
        "float_val=ary2[ary2!=ary2.astype(int)]\n",
        "float_val"
      ],
      "metadata": {
        "colab": {
          "base_uri": "https://localhost:8080/"
        },
        "id": "UUTSGrLel_H9",
        "outputId": "2bebce16-c5a5-4b72-8453-e6e5650fdb5f"
      },
      "execution_count": 39,
      "outputs": [
        {
          "output_type": "execute_result",
          "data": {
            "text/plain": [
              "array([1.2, 2.2])"
            ]
          },
          "metadata": {},
          "execution_count": 39
        }
      ]
    },
    {
      "cell_type": "code",
      "source": [
        "import numpy as np\n",
        "from PIL import Image\n",
        "\n",
        "def img_to_array(path):\n",
        "    img = Image.open(path)\n",
        "    arrr = np.array(img)\n",
        "    print(\"Image shape:\", arrr.shape)\n",
        "\n",
        "    if len(arrr.shape) == 2:  # grayscale\n",
        "        np.savetxt(\"image_gray.txt\", arrr, fmt=\"%d\")\n",
        "        print(\"Grayscale image saved as 'image_gray.txt'\")\n",
        "    elif len(arrr.shape) == 3 and arrr.shape[2] == 3:  # RGB\n",
        "        reshaped_arrr = arrr.reshape(-1, 3)\n",
        "        np.savetxt(\"image_rgb.txt\", reshaped_arrr, fmt='%d')\n",
        "        print(\"RGB image saved as 'image_rgb.txt'\")\n",
        "    else:\n",
        "        print(\"Unsupported image format\")\n",
        "\n",
        "img_to_array(\"/content/240_F_687994619_EsDIMiMqpmvP8eGwZPX2w0zPTr100rt8.jpg\")\n"
      ],
      "metadata": {
        "colab": {
          "base_uri": "https://localhost:8080/"
        },
        "id": "CH3lqdSM3qPr",
        "outputId": "37c73711-e289-49c7-9ad6-bb4ad0b76ea1"
      },
      "execution_count": 55,
      "outputs": [
        {
          "output_type": "stream",
          "name": "stdout",
          "text": [
            "Image shape: (240, 429, 3)\n",
            "RGB image saved as 'image_rgb.txt'\n"
          ]
        }
      ]
    }
  ]
}